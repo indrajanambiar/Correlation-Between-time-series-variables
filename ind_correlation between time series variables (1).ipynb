{
 "cells": [
  {
   "cell_type": "code",
   "execution_count": 1,
   "id": "033681fb",
   "metadata": {},
   "outputs": [],
   "source": [
    "import pandas as pd\n",
    "import matplotlib.pyplot as plt"
   ]
  },
  {
   "cell_type": "code",
   "execution_count": 20,
   "id": "18483c55",
   "metadata": {},
   "outputs": [],
   "source": [
    "data= pd.read_csv(\"/Users/indrajanambiar/Downloads/Microsoft_Stock.csv\")"
   ]
  },
  {
   "cell_type": "code",
   "execution_count": 22,
   "id": "a8f84068",
   "metadata": {},
   "outputs": [
    {
     "data": {
      "text/plain": [
       "(1511, 6)"
      ]
     },
     "execution_count": 22,
     "metadata": {},
     "output_type": "execute_result"
    }
   ],
   "source": [
    "data.shape"
   ]
  },
  {
   "cell_type": "code",
   "execution_count": 21,
   "id": "516c9890",
   "metadata": {},
   "outputs": [
    {
     "data": {
      "text/html": [
       "<div>\n",
       "<style scoped>\n",
       "    .dataframe tbody tr th:only-of-type {\n",
       "        vertical-align: middle;\n",
       "    }\n",
       "\n",
       "    .dataframe tbody tr th {\n",
       "        vertical-align: top;\n",
       "    }\n",
       "\n",
       "    .dataframe thead th {\n",
       "        text-align: right;\n",
       "    }\n",
       "</style>\n",
       "<table border=\"1\" class=\"dataframe\">\n",
       "  <thead>\n",
       "    <tr style=\"text-align: right;\">\n",
       "      <th></th>\n",
       "      <th>Date</th>\n",
       "      <th>Open</th>\n",
       "      <th>High</th>\n",
       "      <th>Low</th>\n",
       "      <th>Close</th>\n",
       "      <th>Volume</th>\n",
       "    </tr>\n",
       "  </thead>\n",
       "  <tbody>\n",
       "    <tr>\n",
       "      <th>0</th>\n",
       "      <td>4/1/2015 16:00:00</td>\n",
       "      <td>40.60</td>\n",
       "      <td>40.76</td>\n",
       "      <td>40.31</td>\n",
       "      <td>40.72</td>\n",
       "      <td>36865322</td>\n",
       "    </tr>\n",
       "    <tr>\n",
       "      <th>1</th>\n",
       "      <td>4/2/2015 16:00:00</td>\n",
       "      <td>40.66</td>\n",
       "      <td>40.74</td>\n",
       "      <td>40.12</td>\n",
       "      <td>40.29</td>\n",
       "      <td>37487476</td>\n",
       "    </tr>\n",
       "    <tr>\n",
       "      <th>2</th>\n",
       "      <td>4/6/2015 16:00:00</td>\n",
       "      <td>40.34</td>\n",
       "      <td>41.78</td>\n",
       "      <td>40.18</td>\n",
       "      <td>41.55</td>\n",
       "      <td>39223692</td>\n",
       "    </tr>\n",
       "    <tr>\n",
       "      <th>3</th>\n",
       "      <td>4/7/2015 16:00:00</td>\n",
       "      <td>41.61</td>\n",
       "      <td>41.91</td>\n",
       "      <td>41.31</td>\n",
       "      <td>41.53</td>\n",
       "      <td>28809375</td>\n",
       "    </tr>\n",
       "    <tr>\n",
       "      <th>4</th>\n",
       "      <td>4/8/2015 16:00:00</td>\n",
       "      <td>41.48</td>\n",
       "      <td>41.69</td>\n",
       "      <td>41.04</td>\n",
       "      <td>41.42</td>\n",
       "      <td>24753438</td>\n",
       "    </tr>\n",
       "    <tr>\n",
       "      <th>...</th>\n",
       "      <td>...</td>\n",
       "      <td>...</td>\n",
       "      <td>...</td>\n",
       "      <td>...</td>\n",
       "      <td>...</td>\n",
       "      <td>...</td>\n",
       "    </tr>\n",
       "    <tr>\n",
       "      <th>1506</th>\n",
       "      <td>3/25/2021 16:00:00</td>\n",
       "      <td>235.30</td>\n",
       "      <td>236.94</td>\n",
       "      <td>231.57</td>\n",
       "      <td>232.34</td>\n",
       "      <td>34061853</td>\n",
       "    </tr>\n",
       "    <tr>\n",
       "      <th>1507</th>\n",
       "      <td>3/26/2021 16:00:00</td>\n",
       "      <td>231.55</td>\n",
       "      <td>236.71</td>\n",
       "      <td>231.55</td>\n",
       "      <td>236.48</td>\n",
       "      <td>25479853</td>\n",
       "    </tr>\n",
       "    <tr>\n",
       "      <th>1508</th>\n",
       "      <td>3/29/2021 16:00:00</td>\n",
       "      <td>236.59</td>\n",
       "      <td>236.80</td>\n",
       "      <td>231.88</td>\n",
       "      <td>235.24</td>\n",
       "      <td>25227455</td>\n",
       "    </tr>\n",
       "    <tr>\n",
       "      <th>1509</th>\n",
       "      <td>3/30/2021 16:00:00</td>\n",
       "      <td>233.53</td>\n",
       "      <td>233.85</td>\n",
       "      <td>231.10</td>\n",
       "      <td>231.85</td>\n",
       "      <td>24792012</td>\n",
       "    </tr>\n",
       "    <tr>\n",
       "      <th>1510</th>\n",
       "      <td>3/31/2021 16:00:00</td>\n",
       "      <td>232.91</td>\n",
       "      <td>239.10</td>\n",
       "      <td>232.39</td>\n",
       "      <td>235.77</td>\n",
       "      <td>43623471</td>\n",
       "    </tr>\n",
       "  </tbody>\n",
       "</table>\n",
       "<p>1511 rows × 6 columns</p>\n",
       "</div>"
      ],
      "text/plain": [
       "                    Date    Open    High     Low   Close    Volume\n",
       "0      4/1/2015 16:00:00   40.60   40.76   40.31   40.72  36865322\n",
       "1      4/2/2015 16:00:00   40.66   40.74   40.12   40.29  37487476\n",
       "2      4/6/2015 16:00:00   40.34   41.78   40.18   41.55  39223692\n",
       "3      4/7/2015 16:00:00   41.61   41.91   41.31   41.53  28809375\n",
       "4      4/8/2015 16:00:00   41.48   41.69   41.04   41.42  24753438\n",
       "...                  ...     ...     ...     ...     ...       ...\n",
       "1506  3/25/2021 16:00:00  235.30  236.94  231.57  232.34  34061853\n",
       "1507  3/26/2021 16:00:00  231.55  236.71  231.55  236.48  25479853\n",
       "1508  3/29/2021 16:00:00  236.59  236.80  231.88  235.24  25227455\n",
       "1509  3/30/2021 16:00:00  233.53  233.85  231.10  231.85  24792012\n",
       "1510  3/31/2021 16:00:00  232.91  239.10  232.39  235.77  43623471\n",
       "\n",
       "[1511 rows x 6 columns]"
      ]
     },
     "execution_count": 21,
     "metadata": {},
     "output_type": "execute_result"
    }
   ],
   "source": [
    "data"
   ]
  },
  {
   "cell_type": "markdown",
   "id": "da16b47d",
   "metadata": {},
   "source": [
    "Open - price of the stock at market open\n",
    "\n",
    "High - Highest price reached in the day\n",
    "\n",
    "Low Close - Lowest price reached in the day\n",
    "\n",
    "Volume - Number of shares traded"
   ]
  },
  {
   "cell_type": "code",
   "execution_count": 26,
   "id": "bae01577",
   "metadata": {},
   "outputs": [
    {
     "name": "stdout",
     "output_type": "stream",
     "text": [
      "<class 'pandas.core.frame.DataFrame'>\n",
      "RangeIndex: 1511 entries, 0 to 1510\n",
      "Data columns (total 6 columns):\n",
      " #   Column  Non-Null Count  Dtype  \n",
      "---  ------  --------------  -----  \n",
      " 0   Date    1511 non-null   object \n",
      " 1   Open    1511 non-null   float64\n",
      " 2   High    1511 non-null   float64\n",
      " 3   Low     1511 non-null   float64\n",
      " 4   Close   1511 non-null   float64\n",
      " 5   Volume  1511 non-null   int64  \n",
      "dtypes: float64(4), int64(1), object(1)\n",
      "memory usage: 71.0+ KB\n"
     ]
    }
   ],
   "source": [
    "data.info()"
   ]
  },
  {
   "cell_type": "code",
   "execution_count": 24,
   "id": "1a3fe192",
   "metadata": {},
   "outputs": [
    {
     "data": {
      "text/html": [
       "<div>\n",
       "<style scoped>\n",
       "    .dataframe tbody tr th:only-of-type {\n",
       "        vertical-align: middle;\n",
       "    }\n",
       "\n",
       "    .dataframe tbody tr th {\n",
       "        vertical-align: top;\n",
       "    }\n",
       "\n",
       "    .dataframe thead th {\n",
       "        text-align: right;\n",
       "    }\n",
       "</style>\n",
       "<table border=\"1\" class=\"dataframe\">\n",
       "  <thead>\n",
       "    <tr style=\"text-align: right;\">\n",
       "      <th></th>\n",
       "      <th>Open</th>\n",
       "      <th>High</th>\n",
       "      <th>Low</th>\n",
       "      <th>Close</th>\n",
       "      <th>Volume</th>\n",
       "    </tr>\n",
       "  </thead>\n",
       "  <tbody>\n",
       "    <tr>\n",
       "      <th>count</th>\n",
       "      <td>1511.000000</td>\n",
       "      <td>1511.000000</td>\n",
       "      <td>1511.000000</td>\n",
       "      <td>1511.000000</td>\n",
       "      <td>1.511000e+03</td>\n",
       "    </tr>\n",
       "    <tr>\n",
       "      <th>mean</th>\n",
       "      <td>107.385976</td>\n",
       "      <td>108.437472</td>\n",
       "      <td>106.294533</td>\n",
       "      <td>107.422091</td>\n",
       "      <td>3.019863e+07</td>\n",
       "    </tr>\n",
       "    <tr>\n",
       "      <th>std</th>\n",
       "      <td>56.691333</td>\n",
       "      <td>57.382276</td>\n",
       "      <td>55.977155</td>\n",
       "      <td>56.702299</td>\n",
       "      <td>1.425266e+07</td>\n",
       "    </tr>\n",
       "    <tr>\n",
       "      <th>min</th>\n",
       "      <td>40.340000</td>\n",
       "      <td>40.740000</td>\n",
       "      <td>39.720000</td>\n",
       "      <td>40.290000</td>\n",
       "      <td>1.016120e+05</td>\n",
       "    </tr>\n",
       "    <tr>\n",
       "      <th>25%</th>\n",
       "      <td>57.860000</td>\n",
       "      <td>58.060000</td>\n",
       "      <td>57.420000</td>\n",
       "      <td>57.855000</td>\n",
       "      <td>2.136213e+07</td>\n",
       "    </tr>\n",
       "    <tr>\n",
       "      <th>50%</th>\n",
       "      <td>93.990000</td>\n",
       "      <td>95.100000</td>\n",
       "      <td>92.920000</td>\n",
       "      <td>93.860000</td>\n",
       "      <td>2.662962e+07</td>\n",
       "    </tr>\n",
       "    <tr>\n",
       "      <th>75%</th>\n",
       "      <td>139.440000</td>\n",
       "      <td>140.325000</td>\n",
       "      <td>137.825000</td>\n",
       "      <td>138.965000</td>\n",
       "      <td>3.431962e+07</td>\n",
       "    </tr>\n",
       "    <tr>\n",
       "      <th>max</th>\n",
       "      <td>245.030000</td>\n",
       "      <td>246.130000</td>\n",
       "      <td>242.920000</td>\n",
       "      <td>244.990000</td>\n",
       "      <td>1.352271e+08</td>\n",
       "    </tr>\n",
       "  </tbody>\n",
       "</table>\n",
       "</div>"
      ],
      "text/plain": [
       "              Open         High          Low        Close        Volume\n",
       "count  1511.000000  1511.000000  1511.000000  1511.000000  1.511000e+03\n",
       "mean    107.385976   108.437472   106.294533   107.422091  3.019863e+07\n",
       "std      56.691333    57.382276    55.977155    56.702299  1.425266e+07\n",
       "min      40.340000    40.740000    39.720000    40.290000  1.016120e+05\n",
       "25%      57.860000    58.060000    57.420000    57.855000  2.136213e+07\n",
       "50%      93.990000    95.100000    92.920000    93.860000  2.662962e+07\n",
       "75%     139.440000   140.325000   137.825000   138.965000  3.431962e+07\n",
       "max     245.030000   246.130000   242.920000   244.990000  1.352271e+08"
      ]
     },
     "execution_count": 24,
     "metadata": {},
     "output_type": "execute_result"
    }
   ],
   "source": [
    "data.describe()"
   ]
  },
  {
   "cell_type": "code",
   "execution_count": 25,
   "id": "2bb0a6a2",
   "metadata": {},
   "outputs": [
    {
     "data": {
      "text/plain": [
       "Date      0\n",
       "Open      0\n",
       "High      0\n",
       "Low       0\n",
       "Close     0\n",
       "Volume    0\n",
       "dtype: int64"
      ]
     },
     "execution_count": 25,
     "metadata": {},
     "output_type": "execute_result"
    }
   ],
   "source": [
    "data.isnull().sum()"
   ]
  },
  {
   "cell_type": "code",
   "execution_count": 35,
   "id": "39ce837e",
   "metadata": {},
   "outputs": [],
   "source": [
    "data['Low%']=data['Low'].pct_change()"
   ]
  },
  {
   "cell_type": "code",
   "execution_count": 37,
   "id": "523f3a29",
   "metadata": {},
   "outputs": [],
   "source": [
    "data['Volume%']=data['Volume'].pct_change()"
   ]
  },
  {
   "cell_type": "code",
   "execution_count": 38,
   "id": "6ef672e1",
   "metadata": {},
   "outputs": [
    {
     "data": {
      "image/png": "[encoded data removed]",
      "text/plain": [
       "<Figure size 432x288 with 1 Axes>"
      ]
     },
     "metadata": {
      "needs_background": "light"
     },
     "output_type": "display_data"
    }
   ],
   "source": [
    "plt.scatter(data['Low%'],data['Volume%'])\n",
    "plt.show()"
   ]
  },
  {
   "cell_type": "code",
   "execution_count": 39,
   "id": "7be81835",
   "metadata": {},
   "outputs": [
    {
     "name": "stdout",
     "output_type": "stream",
     "text": [
      "Correlation is -0.014896342715550534\n"
     ]
    }
   ],
   "source": [
    "correlation=data['Low%'].corr(data['Volume%'])\n",
    "print('Correlation is',correlation)"
   ]
  },
  {
   "cell_type": "markdown",
   "id": "b3b71ce4",
   "metadata": {},
   "source": [
    "There is a negative correlation of -0.0148 between Low and Volume over the time period."
   ]
  },
  {
   "cell_type": "code",
   "execution_count": null,
   "id": "78ea2322",
   "metadata": {},
   "outputs": [],
   "source": []
  }
 ],
 "metadata": {
  "kernelspec": {
   "display_name": "Python 3 (ipykernel)",
   "language": "python",
   "name": "python3"
  },
  "language_info": {
   "codemirror_mode": {
    "name": "ipython",
    "version": 3
   },
   "file_extension": ".py",
   "mimetype": "text/x-python",
   "name": "python",
   "nbconvert_exporter": "python",
   "pygments_lexer": "ipython3",
   "version": "3.9.7"
  }
 },
 "nbformat": 4,
 "nbformat_minor": 5
}
